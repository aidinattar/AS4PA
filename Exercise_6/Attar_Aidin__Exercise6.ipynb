{
 "cells": [
  {
   "cell_type": "markdown",
   "id": "29b24cf4",
   "metadata": {},
   "source": [
    "# Week 5\n",
    "# Aidin Attar - 2048654\n",
    "\n",
    "### Table of contents:\n",
    "- [Libraries](#lib)\n",
    "- [Exercise 1 - Detecting a disease](#ex1)\n",
    "    - [(a) - Probability distribution  of the new method](#ex1a)\n",
    "    - [(b) - Frequentist estimation of the failure](#ex1b)\n",
    "    - [(c) - Bayesian computation of the posterior probability](#ex1c)\n",
    "    - [(d) - Hypothesis Test (Bayesian approach)](#ex1d)\n",
    "    - [(e) - Hypothesis Test (Frequentist approach) ](#ex1e)\n",
    "- [Exercise 2 - Deaths by horse kick among the Prussian army](#ex2)\n",
    "    - [(a) - Death rate's distribution (Uniform Prior)](#ex2a)\n",
    "    - [(b) - Death rate's distribution (Jeffrey's Prior)](#ex2b)\n",
    "- [Exercise 3 - Water quality of streams](#ex3)\n",
    "    - [(a) - Frequentist estimator](#ex3a)\n",
    "    - [(b) - Posterior distribution with beta prior](#ex3b)\n",
    "    - [(c) - Bayesian estimator](#ex3c)\n",
    "    - [(d) - Hypotesis test](#ex3d)\n",
    "    - [(e) - Frequentist estimator](#ex3e)\n",
    "    - [(f) - Bayesian estimator with Beta prior and custom prior](#ex3f)\n",
    "    - [(g) - Mean and variance](#ex3g)\n",
    "    - [(h) - Hypotesis test](#ex3h)\n",
    "- [Exercise 4 - MCMC with JAGS](#ex4)\n",
    "- [Exercise 5 - ](#ex5)\n",
    "- [Exercise 6 - ](#ex6)"
   ]
  },
  {
   "cell_type": "markdown",
   "id": "59f40a26",
   "metadata": {},
   "source": [
    "## Libraries<a class=\"anchor\" id=\"lib\"></a>"
   ]
  },
  {
   "cell_type": "code",
   "execution_count": 1,
   "id": "3661934f",
   "metadata": {},
   "outputs": [
    {
     "name": "stderr",
     "output_type": "stream",
     "text": [
      "Loading required package: coda\n",
      "\n",
      "Linked to JAGS 4.3.0\n",
      "\n",
      "Loaded modules: basemod,bugs\n",
      "\n"
     ]
    }
   ],
   "source": [
    "library(rjags)\n",
    "library(ggplot2)\n",
    "library(gridExtra)\n",
    "library(ggthemes)\n",
    "library(ggtext)"
   ]
  },
  {
   "cell_type": "markdown",
   "id": "9a1277c2",
   "metadata": {},
   "source": [
    "## Exercise 1 - Detecting a disease<a class=\"anchor\" id=\"ex1\"></a>"
   ]
  },
  {
   "cell_type": "code",
   "execution_count": 2,
   "id": "32d7098e",
   "metadata": {},
   "outputs": [],
   "source": [
    "p.old <- .15\n",
    "n     <- 75"
   ]
  },
  {
   "cell_type": "markdown",
   "id": "c5e9f251",
   "metadata": {},
   "source": [
    "### Exercise 1a - Probability distribution  of the new method<a class=\"anchor\" id=\"ex1a\"></a>\n",
    "We assume an uniform prior: the likelihood will be a binomial distribution and so the posterior pdf is simply proportional to the likelihood. Thus the probability distribution of y follows a binomial distribution."
   ]
  },
  {
   "cell_type": "markdown",
   "id": "fdbc6da8",
   "metadata": {},
   "source": [
    "### Exercise 1b - Frequentist estimation of the failure<a class=\"anchor\" id=\"ex1b\"></a>"
   ]
  },
  {
   "cell_type": "code",
   "execution_count": 3,
   "id": "afd6618e",
   "metadata": {},
   "outputs": [
    {
     "name": "stdout",
     "output_type": "stream",
     "text": [
      "The frequentist estimator of the failure probability of the new method is:\n",
      " 0.08"
     ]
    }
   ],
   "source": [
    "y  <- 6\n",
    "pf <- y / n\n",
    "cat(\"The frequentist estimator of the failure probability of the new method is:\\n\", pf)"
   ]
  },
  {
   "cell_type": "markdown",
   "id": "f6fd7b5c",
   "metadata": {},
   "source": [
    "### Exercise 1c - Bayesian computation of the posterior probability<a class=\"anchor\" id=\"ex1c\"></a>"
   ]
  },
  {
   "cell_type": "code",
   "execution_count": 4,
   "id": "18672a52",
   "metadata": {},
   "outputs": [
    {
     "name": "stderr",
     "output_type": "stream",
     "text": [
      "Warning message:\n",
      "\"Removed 700 row(s) containing missing values (geom_path).\"\n"
     ]
    },
    {
     "data": {
      "image/png": "[encoded data removed]",
      "text/plain": [
       "plot without title"
      ]
     },
     "metadata": {
      "image/png": {
       "height": 420,
       "width": 720
      }
     },
     "output_type": "display_data"
    }
   ],
   "source": [
    "p<-seq(0,1,.001)\n",
    "\n",
    "mean       <-.15\n",
    "std        <-.14\n",
    "sample_size<-mean*(1-mean)/std^2\n",
    "\n",
    "likelihood<-dbinom(x=y, size=n, prob=p)\n",
    "\n",
    "alpha.prior<-mean*sample_size\n",
    "beta.prior <-(1-mean)*sample_size\n",
    "\n",
    "prior<-dbeta(p, alpha.prior, beta.prior)\n",
    "\n",
    "# rule of conjugate priors\n",
    "alpha.post<-alpha.prior+y\n",
    "beta.post <-beta.prior-y+n\n",
    "beta.posterior<-dbeta(p, alpha.post, beta.post)\n",
    "\n",
    "mean.post    <-(alpha.post)/(alpha.post+beta.post)\n",
    "variance.post<-alpha.post*beta.post/((alpha.post+beta.post)^2 *(alpha.post+beta.post+1))\n",
    "\n",
    "options(repr.plot.width = 12, repr.plot.height = 7)\n",
    "\n",
    "data = data.frame(p,prior,beta.posterior)\n",
    "\n",
    "p <- ggplot(data=data)\n",
    "p <- p + geom_rect(aes(xmin=mean.post-sqrt(variance.post), xmax=mean.post+sqrt(variance.post),ymin=-Inf,ymax=Inf), fill='forestgreen', alpha= 0.003)\n",
    "p <- p + geom_line(aes(p, beta.posterior),  color=\"red\",   size=1.5)\n",
    "#p <- p + geom_line(aes(p, prior),           color=\"blue\",  size=1.5)\n",
    "p <- p + geom_vline(xintercept = mean.post, color=\"gold\", size=2)\n",
    "p <- p + geom_vline(xintercept = mean.post-sqrt(variance.post), linetype = \"dashed\", color=\"black\", size=1)\n",
    "p <- p + geom_vline(xintercept = mean.post+sqrt(variance.post), linetype = \"dashed\", color=\"black\", size=1)\n",
    "p <- p + ylim(0,NA) + xlim(0,.3)\n",
    "p <- p + labs(x        = \"p\",\n",
    "              #y        = \"PDF\",\n",
    "              title    = \"Bayesian probability\")\n",
    "p"
   ]
  },
  {
   "cell_type": "code",
   "execution_count": 5,
   "id": "a26c96af",
   "metadata": {},
   "outputs": [
    {
     "name": "stdout",
     "output_type": "stream",
     "text": [
      "Mean:\n",
      " 0.08558685 \n",
      "\n",
      "Variance:\n",
      " 0.0009485685"
     ]
    }
   ],
   "source": [
    "cat(\"Mean:\\n\", mean.post, \"\\n\\nVariance:\\n\", variance.post)"
   ]
  },
  {
   "cell_type": "markdown",
   "id": "30e03cd3",
   "metadata": {},
   "source": [
    "### Exercise 1d - Hypothesis Test (Bayesian approach)<a class=\"anchor\" id=\"ex1d\"></a>"
   ]
  },
  {
   "cell_type": "markdown",
   "id": "d1aeab8d",
   "metadata": {},
   "source": [
    "We want to test if the probability of failing to the detect the desease in ill patients is greater or equal than a value:\n",
    "\n",
    "$$H_0: p<.15 \\quad\\quad H_1: p\\geq .15 $$\n",
    "\n",
    "with $\\alpha = .05$"
   ]
  },
  {
   "cell_type": "code",
   "execution_count": 6,
   "id": "d5c1e64f",
   "metadata": {},
   "outputs": [
    {
     "name": "stdout",
     "output_type": "stream",
     "text": [
      "The p value is:  0.03226834  which is less than alpha. We reject H0 at this level of significance."
     ]
    }
   ],
   "source": [
    "pv.b <- pbeta(p.old, alpha.post, beta.post, lower.tail = FALSE)\n",
    "cat(\"The p value is: \", pv.b, \" which is less than alpha. We reject H0 at this level of significance.\")"
   ]
  },
  {
   "cell_type": "code",
   "execution_count": 7,
   "id": "3c84840c",
   "metadata": {},
   "outputs": [
    {
     "name": "stdout",
     "output_type": "stream",
     "text": [
      "The cutoff value is in this case:  0.1414278 ."
     ]
    }
   ],
   "source": [
    "cutoff.b <- qbeta(.05, alpha.post, beta.post, lower.tail = FALSE)\n",
    "cat(\"The cutoff value is in this case: \", cutoff.b, \".\")"
   ]
  },
  {
   "cell_type": "code",
   "execution_count": 8,
   "id": "799ec476",
   "metadata": {},
   "outputs": [
    {
     "name": "stderr",
     "output_type": "stream",
     "text": [
      "Warning message:\n",
      "\"Removed 850 rows containing missing values (position_stack).\"\n",
      "Warning message:\n",
      "\"Removed 700 row(s) containing missing values (geom_path).\"\n"
     ]
    },
    {
     "data": {
      "image/png": "[encoded data removed]",
      "text/plain": [
       "plot without title"
      ]
     },
     "metadata": {
      "image/png": {
       "height": 420,
       "width": 720
      }
     },
     "output_type": "display_data"
    }
   ],
   "source": [
    "p <- ggplot(data, aes(x = p, y = beta.posterior))\n",
    "p <- p + geom_line(size = 1.5, color = 'forestgreen')\n",
    "p <- p + geom_area(aes(ifelse(p>= 0.15, p, NA)), fill = 'forestgreen', alpha = 0.5)\n",
    "p <- p + geom_vline(xintercept = 0.15, col = 'black', size = 1, linetype = 'dashed')\n",
    "p <- p + geom_vline(xintercept = cutoff.b, col = 'red', size = 1, linetype = 'dashed')\n",
    "p <- p + xlim(0, 0.3)\n",
    "p <- p + ylab('PDF')\n",
    "p <- p + theme(axis.title.x = element_text(size=14), axis.text.x = element_text(size=12))\n",
    "p <- p + theme(axis.title.y = element_text(size=14), axis.text.y = element_text(size=12))\n",
    "p"
   ]
  },
  {
   "cell_type": "markdown",
   "id": "e169f438",
   "metadata": {},
   "source": [
    "### Exercise 1e - Hypothesis Test (Frequentist approach)<a class=\"anchor\" id=\"ex1e\"></a>"
   ]
  },
  {
   "cell_type": "code",
   "execution_count": 9,
   "id": "e86b2537",
   "metadata": {},
   "outputs": [
    {
     "data": {
      "text/plain": [
       "\n",
       "\tExact binomial test\n",
       "\n",
       "data:  y and n\n",
       "number of successes = 6, number of trials = 75, p-value = 0.05435\n",
       "alternative hypothesis: true probability of success is less than 0.15\n",
       "95 percent confidence interval:\n",
       " 0.0000000 0.1517971\n",
       "sample estimates:\n",
       "probability of success \n",
       "                  0.08 \n"
      ]
     },
     "metadata": {},
     "output_type": "display_data"
    }
   ],
   "source": [
    "binom.test(y, n, p = p.old, alternative = 'l')"
   ]
  },
  {
   "cell_type": "code",
   "execution_count": 10,
   "id": "ba4a343b",
   "metadata": {},
   "outputs": [
    {
     "name": "stdout",
     "output_type": "stream",
     "text": [
      "The p value is:  0.0543533  which is greater than alpha. We accept H0 at this level of significance."
     ]
    }
   ],
   "source": [
    "pv.f <- pbinom(y, n, prob = p.old, lower.tail = TRUE)\n",
    "cat(\"The p value is: \", pv.f, \" which is greater than alpha. We accept H0 at this level of significance.\")"
   ]
  },
  {
   "cell_type": "code",
   "execution_count": 11,
   "id": "9febec16",
   "metadata": {},
   "outputs": [
    {
     "name": "stdout",
     "output_type": "stream",
     "text": [
      "The cutoff value is in this case:  6 ."
     ]
    }
   ],
   "source": [
    "cutoff.f <- qbinom(p = .05, size = n, prob=p.old, lower.tail = TRUE)\n",
    "cat(\"The cutoff value is in this case: \", cutoff.f, \".\")"
   ]
  },
  {
   "cell_type": "markdown",
   "id": "fd6063a8",
   "metadata": {},
   "source": [
    "## Exercise 2 - Deaths by horse kick among the Prussian army <a class=\"anchor\" id=\"ex2\"></a>"
   ]
  },
  {
   "cell_type": "code",
   "execution_count": 12,
   "id": "5b8dc311",
   "metadata": {},
   "outputs": [],
   "source": [
    "y <-c(0,   1, 2,3, 4)\n",
    "n1<-c(109,65,22,3, 1)\n",
    "n2<-c(144,91,32,11,2)"
   ]
  },
  {
   "cell_type": "markdown",
   "id": "def98373",
   "metadata": {},
   "source": [
    "### Exercise 2a - Death rate's distribution (Uniform Prior)<a class=\"anchor\" id=\"ex2a\"></a>\n"
   ]
  },
  {
   "cell_type": "code",
   "execution_count": 13,
   "id": "5f125ac4",
   "metadata": {},
   "outputs": [
    {
     "data": {
      "image/png": "[encoded data removed]",
      "text/plain": [
       "Plot with title \"Posterior\""
      ]
     },
     "metadata": {
      "image/png": {
       "height": 420,
       "width": 840
      }
     },
     "output_type": "display_data"
    }
   ],
   "source": [
    "p<-seq(0,1,.001)\n",
    "n<-length(n1)\n",
    "prior<-rep(1, length(p))\n",
    "\n",
    "alpha.1<-sum(n1*y)+1\n",
    "lambda.1<-sum(n1)\n",
    "posterior.1<-dgamma(x=p, shape=alpha.1, rate=lambda.1)\n",
    "\n",
    "alpha.2<-sum(n2*y)+1\n",
    "lambda.2<-sum(n2)\n",
    "posterior.2<-dgamma(x=p, shape=alpha.2, rate=lambda.2)\n",
    "\n",
    "options(repr.plot.width = 14, repr.plot.height = 7)\n",
    "plot( p,posterior.1, type=\"l\", main=\"Posterior\", lwd=5, col='red', ylim=c(0,9) )\n",
    "lines(p,posterior.2, type=\"l\", main=\"Prior\",     lwd=5, col='blue')\n"
   ]
  },
  {
   "cell_type": "code",
   "execution_count": 14,
   "id": "1ec45ec4",
   "metadata": {},
   "outputs": [],
   "source": [
    "post<-function(p, alpha, lambda){\n",
    "    return(dgamma(x=p, shape=alpha, rate=lambda))\n",
    "}\n",
    "\n",
    "Ex<-function(p, alpha, lambda){\n",
    "    return(p*dgamma(x=p, shape=alpha, rate=lambda))\n",
    "}\n",
    "\n",
    "Ex2<-function(p, alpha, lambda){\n",
    "    return(p*p*dgamma(x=p, shape=alpha, rate=lambda))\n",
    "}"
   ]
  },
  {
   "cell_type": "code",
   "execution_count": 15,
   "id": "0913c3ac",
   "metadata": {},
   "outputs": [
    {
     "name": "stdout",
     "output_type": "stream",
     "text": [
      "-----------Observation 1-----------\n",
      "\n",
      "Mean: :\t 0.615 \n",
      "Var:\t 0.00308 \n",
      "Median:\t 0.61333\n",
      "95% CI for Uniform Prior:\t [ 0.5111251 ,  0.7283408 ]\n",
      "\n",
      "-----------Observation 2-----------\n",
      "\n",
      "Mean: :\t 0.70357 \n",
      "Var:\t 0.00251 \n",
      "Median:\t 0.70238\n",
      "95% CI for Uniform Prior:\t [ 0.6087487 ,  0.805157 ]"
     ]
    }
   ],
   "source": [
    "normalization.1<-integrate(post, lower=0, upper=1, alpha=alpha.1, lambda=lambda.1)$value\n",
    "posterior.1<-post(p, alpha=alpha.1, lambda=lambda.1)/(normalization.1)\n",
    "mean.1<-integrate(Ex, lower=0, upper=1, alpha=alpha.1, lambda=lambda.1)$value\n",
    "var.1<-integrate(Ex2, lower=0, upper=1, alpha=alpha.1, lambda=lambda.1)$value-mean.1^2\n",
    "median.1<-qgamma(.5, shape=alpha.1, rate=lambda.1)\n",
    "\n",
    "cat(\"-----------Observation 1-----------\\n\\n\")\n",
    "cat(\"Mean: :\\t\",   round(mean.1,   5), \n",
    "    \"\\nVar:\\t\",    round(var.1,    5),\n",
    "    \"\\nMedian:\\t\", round(median.1, 5))\n",
    "cat(\"\\n\")\n",
    "cat(\"95% CI for Uniform Prior:\\t [\", \n",
    "    qgamma(.025,alpha.1,lambda.1), \", \", qgamma(.975,alpha.1,lambda.1), \"]\")\n",
    "\n",
    "\n",
    "normalization.2<-integrate(post, lower=0, upper=1, alpha=alpha.2, lambda=lambda.2)$value\n",
    "posterior.2<-post(p, alpha=alpha.2, lambda=lambda.2)/(normalization.2)\n",
    "mean.2<-integrate(Ex, lower=0, upper=1, alpha=alpha.2, lambda=lambda.2)$value\n",
    "var.2<-integrate(Ex2, lower=0, upper=1, alpha=alpha.2, lambda=lambda.2)$value-mean.2^2\n",
    "median.2<-qgamma(.5, shape=alpha.2, rate=lambda.2)\n",
    "\n",
    "cat(\"\\n\\n-----------Observation 2-----------\\n\\n\")\n",
    "cat(\"Mean: :\\t\",   round(mean.2,   5), \n",
    "    \"\\nVar:\\t\",    round(var.2,    5),\n",
    "    \"\\nMedian:\\t\", round(median.2, 5))\n",
    "cat(\"\\n\")\n",
    "cat(\"95% CI for Uniform Prior:\\t [\", \n",
    "    qgamma(.025,alpha.2,lambda.2), \", \", qgamma(.975,alpha.2,lambda.2), \"]\")\n"
   ]
  },
  {
   "cell_type": "markdown",
   "id": "a0a668e0",
   "metadata": {},
   "source": [
    "### Exercise 2b - Death rate's distribution (Jeffrey's Prior)<a class=\"anchor\" id=\"ex2b\"></a>\n"
   ]
  },
  {
   "cell_type": "code",
   "execution_count": 16,
   "id": "80ad733c",
   "metadata": {},
   "outputs": [
    {
     "data": {
      "image/png": "[encoded data removed]",
      "text/plain": [
       "Plot with title \"Posterior\""
      ]
     },
     "metadata": {
      "image/png": {
       "height": 420,
       "width": 840
      }
     },
     "output_type": "display_data"
    }
   ],
   "source": [
    "prior.1<-1/sqrt(p)\n",
    "\n",
    "alpha.1<-sum(n1*y)+1/2\n",
    "lambda.1 <-sum(n1)\n",
    "posterior.1<-dgamma(x=p, shape=alpha.1, rate=lambda.1)\n",
    "\n",
    "alpha.2<-sum(n2*y)+1/2\n",
    "lambda.2 <-sum(n2)\n",
    "posterior.2<-dgamma(x=p, shape=alpha.2, rate=lambda.2)\n",
    "\n",
    "\n",
    "options(repr.plot.width = 14, repr.plot.height = 7)\n",
    "plot( p,posterior.1, type=\"l\", main=\"Posterior\", lwd=5, col='red', ylim=c(0,9) )\n",
    "lines(p,posterior.2, type=\"l\", main=\"Prior\",     lwd=5, col='blue')"
   ]
  },
  {
   "cell_type": "code",
   "execution_count": 17,
   "id": "ce077fd4",
   "metadata": {},
   "outputs": [
    {
     "name": "stdout",
     "output_type": "stream",
     "text": [
      "-----------Observation 1-----------\n",
      "\n",
      "Mean: :\t 0.6125 \n",
      "Var:\t 0.00306 \n",
      "Median:\t 0.61083\n",
      "95% CI for Uniform Prior:\t [ 0.5088464 ,  0.7256196 ]\n",
      "\n",
      "-----------Observation 2-----------\n",
      "\n",
      "Mean: :\t 0.70179 \n",
      "Var:\t 0.00251 \n",
      "Median:\t 0.7006\n",
      "95% CI for Uniform Prior:\t [ 0.6070878 ,  0.8032465 ]"
     ]
    }
   ],
   "source": [
    "normalization.1<-integrate(post, lower=0, upper=1, alpha=alpha.1, lambda=lambda.1)$value\n",
    "posterior.1<-post(p, alpha=alpha.1, lambda=lambda.1)/(normalization.1)\n",
    "mean.1<-integrate(Ex, lower=0, upper=1, alpha=alpha.1, lambda=lambda.1)$value\n",
    "var.1<-integrate(Ex2, lower=0, upper=1, alpha=alpha.1, lambda=lambda.1)$value-mean.1^2\n",
    "median.1<-qgamma(.5, shape=alpha.1, rate=lambda.1)\n",
    "\n",
    "cat(\"-----------Observation 1-----------\\n\\n\")\n",
    "cat(\"Mean: :\\t\",   round(mean.1,   5), \n",
    "    \"\\nVar:\\t\",    round(var.1,    5),\n",
    "    \"\\nMedian:\\t\", round(median.1, 5))\n",
    "cat(\"\\n\")\n",
    "cat(\"95% CI for Uniform Prior:\\t [\", \n",
    "    qgamma(.025,alpha.1,lambda.1), \", \", qgamma(.975,alpha.1,lambda.1), \"]\")\n",
    "\n",
    "\n",
    "normalization.2<-integrate(post, lower=0, upper=1, alpha=alpha.2, lambda=lambda.2)$value\n",
    "posterior.2<-post(p, alpha=alpha.2, lambda=lambda.2)/(normalization.2)\n",
    "mean.2<-integrate(Ex, lower=0, upper=1, alpha=alpha.2, lambda=lambda.2)$value\n",
    "var.2<-integrate(Ex2, lower=0, upper=1, alpha=alpha.2, lambda=lambda.2)$value-mean.2^2\n",
    "median.2<-qgamma(.5, shape=alpha.2, rate=lambda.2)\n",
    "\n",
    "cat(\"\\n\\n-----------Observation 2-----------\\n\\n\")\n",
    "cat(\"Mean: :\\t\",   round(mean.2,   5), \n",
    "    \"\\nVar:\\t\",    round(var.2,    5),\n",
    "    \"\\nMedian:\\t\", round(median.2, 5))\n",
    "cat(\"\\n\")\n",
    "cat(\"95% CI for Uniform Prior:\\t [\", \n",
    "    qgamma(.025,alpha.2,lambda.2), \", \", qgamma(.975,alpha.2,lambda.2), \"]\")"
   ]
  },
  {
   "cell_type": "markdown",
   "id": "3e871082",
   "metadata": {},
   "source": [
    "## Exercise 3 - Water quality of streams <a class=\"anchor\" id=\"ex3\"></a>"
   ]
  },
  {
   "cell_type": "code",
   "execution_count": 18,
   "id": "1b4bbb2a",
   "metadata": {},
   "outputs": [],
   "source": [
    "n <- 116\n",
    "y <-  11"
   ]
  },
  {
   "cell_type": "markdown",
   "id": "aec85d0b",
   "metadata": {},
   "source": [
    "### Exercise 3a - Frequentist estimator <a class=\"anchor\" id=\"ex3a\"></a>"
   ]
  },
  {
   "cell_type": "code",
   "execution_count": 19,
   "id": "a5c18c6f",
   "metadata": {},
   "outputs": [
    {
     "name": "stdout",
     "output_type": "stream",
     "text": [
      "-Unbiased estimator:\t\tpf\t=\t 0.09482759 \n",
      "-with standard deviation:\tsigma\t=\t 0.0272022"
     ]
    }
   ],
   "source": [
    "pf <- y / n\n",
    "sg <- sqrt(pf*(1-pf)/n)\n",
    "\n",
    "cat(\"-Unbiased estimator:\\t\\tpf\\t=\\t\",        pf, \n",
    "    \"\\n-with standard deviation:\\tsigma\\t=\\t\",sg)"
   ]
  },
  {
   "cell_type": "markdown",
   "id": "80457ed6",
   "metadata": {},
   "source": [
    "### Exercise 3b - Posterior distribution with beta prior <a class=\"anchor\" id=\"ex3b\"></a>"
   ]
  },
  {
   "cell_type": "code",
   "execution_count": 20,
   "id": "985e987c",
   "metadata": {},
   "outputs": [
    {
     "data": {
      "image/png": "[encoded data removed]",
      "text/plain": [
       "Plot with title \"Posterior\""
      ]
     },
     "metadata": {
      "image/png": {
       "height": 420,
       "width": 1260
      }
     },
     "output_type": "display_data"
    }
   ],
   "source": [
    "p<-seq(0,.4,.001)\n",
    "\n",
    "alpha.prior<-1\n",
    "beta.prior <-10\n",
    "\n",
    "prior<-dbeta(p, alpha.prior, beta.prior)\n",
    "\n",
    "# rule of conjugate priors\n",
    "alpha.post<-alpha.prior+y\n",
    "beta.post <-beta.prior-y+n\n",
    "beta.posterior<-dbeta(p, alpha.post, beta.post)\n",
    "\n",
    "alpha.old<-alpha.post\n",
    "beta.old <-beta.post\n",
    "\n",
    "options(repr.plot.width = 21, repr.plot.height = 7)\n",
    "plot(p,beta.posterior, type=\"l\", main=\"Posterior\",     lwd=5, col='green')\n",
    "lines(p,prior,          type=\"l\", main=\"Uniform Prior\", lwd=5, col='red'  )"
   ]
  },
  {
   "cell_type": "markdown",
   "id": "cfbedc1a",
   "metadata": {},
   "source": [
    "### Exercise 3c - Bayesian estimator <a class=\"anchor\" id=\"ex3c\"></a>"
   ]
  },
  {
   "cell_type": "code",
   "execution_count": 21,
   "id": "710d35a4",
   "metadata": {},
   "outputs": [
    {
     "name": "stdout",
     "output_type": "stream",
     "text": [
      "Best estimator:\t 0.088 \n",
      "Mean:\t\t 0.09448819 \n",
      "Var:\t\t 0.0006684388\n",
      "95% CI for Uniform Prior:\t [ 0.05018522 ,  0.1508379 ]"
     ]
    }
   ],
   "source": [
    "mode     <- (alpha.post - 1)        / (alpha.post + beta.post - 2)\n",
    "mean     <-  alpha.post             / (alpha.post + beta.post    )\n",
    "variance <-  alpha.post * beta.post / (alpha.post + beta.post)^2 / (alpha.post + beta.post + 1)\n",
    "\n",
    "cat(\"Best estimator:\\t\", mode,\n",
    "    \"\\nMean:\\t\\t\", mean, \n",
    "    \"\\nVar:\\t\\t\", variance)\n",
    "cat(\"\\n\")\n",
    "cat(\"95% CI for Uniform Prior:\\t [\", \n",
    "    qbeta(.025,alpha.post,beta.post), \", \", qbeta(.975,alpha.post,beta.post), \"]\")"
   ]
  },
  {
   "cell_type": "markdown",
   "id": "7b92018b",
   "metadata": {},
   "source": [
    "### Exercise 3d - Hypotesis test <a class=\"anchor\" id=\"ex3d\"></a>"
   ]
  },
  {
   "cell_type": "code",
   "execution_count": 22,
   "id": "6debb80e",
   "metadata": {},
   "outputs": [
    {
     "name": "stdout",
     "output_type": "stream",
     "text": [
      "The p value is:  0.385815  which is greater than alpha. We accept H0 at this level of significance."
     ]
    }
   ],
   "source": [
    "# bayesian approach\n",
    "\n",
    "pv.b <- pbeta(.1, alpha.post, beta.post, lower.tail = FALSE)\n",
    "cat(\"The p value is: \", pv.b, \" which is greater than alpha. We accept H0 at this level of significance.\")"
   ]
  },
  {
   "cell_type": "code",
   "execution_count": 23,
   "id": "37ac66fc",
   "metadata": {},
   "outputs": [
    {
     "name": "stdout",
     "output_type": "stream",
     "text": [
      "The cutoff value is in this case:  0.1287904 ."
     ]
    }
   ],
   "source": [
    "cutoff.b <- qbeta(.1, alpha.post, beta.post, lower.tail = FALSE)\n",
    "cat(\"The cutoff value is in this case: \", cutoff.b, \".\")"
   ]
  },
  {
   "cell_type": "code",
   "execution_count": 24,
   "id": "92e855f0",
   "metadata": {},
   "outputs": [
    {
     "name": "stderr",
     "output_type": "stream",
     "text": [
      "Warning message:\n",
      "\"Removed 200 rows containing missing values (position_stack).\"\n",
      "Warning message:\n",
      "\"Removed 100 row(s) containing missing values (geom_path).\"\n"
     ]
    },
    {
     "data": {
      "image/png": "[encoded data removed]",
      "text/plain": [
       "plot without title"
      ]
     },
     "metadata": {
      "image/png": {
       "height": 420,
       "width": 1260
      }
     },
     "output_type": "display_data"
    }
   ],
   "source": [
    "data = data.frame(p,prior,beta.posterior)\n",
    "\n",
    "p <- ggplot(data, aes(x = p, y = beta.posterior))\n",
    "p <- p + geom_line(size = 1.5, color = 'forestgreen')\n",
    "p <- p + geom_area(aes(ifelse(p>= 0.1, p, NA)), fill = 'forestgreen', alpha = 0.5)\n",
    "p <- p + geom_vline(xintercept = 0.1, col = 'black', size = 1, linetype = 'dashed')\n",
    "p <- p + geom_vline(xintercept = cutoff.b, col = 'red', size = 1, linetype = 'dashed')\n",
    "p <- p + xlim(0, 0.3)\n",
    "p <- p + ylab('PDF')\n",
    "p <- p + theme(axis.title.x = element_text(size=14), axis.text.x = element_text(size=12))\n",
    "p <- p + theme(axis.title.y = element_text(size=14), axis.text.y = element_text(size=12))\n",
    "p"
   ]
  },
  {
   "cell_type": "code",
   "execution_count": 25,
   "id": "cebeb417",
   "metadata": {},
   "outputs": [
    {
     "data": {
      "text/plain": [
       "\n",
       "\tExact binomial test\n",
       "\n",
       "data:  y and n\n",
       "number of successes = 11, number of trials = 116, p-value = 0.5043\n",
       "alternative hypothesis: true probability of success is less than 0.1\n",
       "95 percent confidence interval:\n",
       " 0.0000000 0.1520786\n",
       "sample estimates:\n",
       "probability of success \n",
       "            0.09482759 \n"
      ]
     },
     "metadata": {},
     "output_type": "display_data"
    }
   ],
   "source": [
    "# frequentist approach\n",
    "\n",
    "binom.test(y, n, p = .1, alternative = 'l')"
   ]
  },
  {
   "cell_type": "markdown",
   "id": "8f980444",
   "metadata": {},
   "source": [
    "### Exercise 3e - Frequentist estimator <a class=\"anchor\" id=\"ex3e\"></a>"
   ]
  },
  {
   "cell_type": "code",
   "execution_count": 26,
   "id": "2a718eae",
   "metadata": {},
   "outputs": [],
   "source": [
    "n <- 165\n",
    "y <- 9"
   ]
  },
  {
   "cell_type": "code",
   "execution_count": 27,
   "id": "5cece80f",
   "metadata": {},
   "outputs": [
    {
     "name": "stdout",
     "output_type": "stream",
     "text": [
      "Frequentist estimator:\t 0.05454545"
     ]
    }
   ],
   "source": [
    "pf <- y / n\n",
    "cat(\"Frequentist estimator:\\t\", pf)"
   ]
  },
  {
   "cell_type": "markdown",
   "id": "08d22c07",
   "metadata": {},
   "source": [
    "### Exercise 3f - Bayesian estimator with Beta prior and custom prior <a class=\"anchor\" id=\"ex3f\"></a>\n",
    "and\n",
    "### Exercise 3g - Mean and variance <a class=\"anchor\" id=\"ex3g\"></a>"
   ]
  },
  {
   "cell_type": "code",
   "execution_count": 28,
   "id": "08be0f70",
   "metadata": {},
   "outputs": [
    {
     "name": "stdout",
     "output_type": "stream",
     "text": [
      "Best estimator:\t 0.05172414 \n",
      "Mean:\t\t 0.05681818 \n",
      "Var:\t\t 0.0003027677\n",
      "95% CI for Uniform Prior:\t [ 0.02773918 ,  0.09538012 ]"
     ]
    },
    {
     "data": {
      "image/png": "[encoded data removed]",
      "text/plain": [
       "Plot with title \"Posterior\""
      ]
     },
     "metadata": {
      "image/png": {
       "height": 420,
       "width": 1260
      }
     },
     "output_type": "display_data"
    }
   ],
   "source": [
    "# beta prior\n",
    "\n",
    "p<-seq(0,.4,.001)\n",
    "\n",
    "alpha.prior<-1\n",
    "beta.prior <-10\n",
    "\n",
    "prior<-dbeta(p, alpha.prior, beta.prior)\n",
    "\n",
    "# rule of conjugate priors\n",
    "alpha.post<-alpha.prior+y\n",
    "beta.post <-beta.prior-y+n\n",
    "beta.posterior<-dbeta(p, alpha.post, beta.post)\n",
    "\n",
    "options(repr.plot.width = 21, repr.plot.height = 7)\n",
    "plot(p,beta.posterior, type=\"l\", main=\"Posterior\",      lwd=5, col='green')\n",
    "lines(p,prior,          type=\"l\", main=\"Uniform Prior\", lwd=5, col='red'  )\n",
    "\n",
    "mode <- (alpha.post - 1) / (alpha.post + beta.post - 2)\n",
    "mean     <-  alpha.post             / (alpha.post + beta.post    )\n",
    "variance <-  alpha.post * beta.post / (alpha.post + beta.post)^2 / (alpha.post + beta.post + 1)\n",
    "\n",
    "cat(\"Best estimator:\\t\", mode,\n",
    "    \"\\nMean:\\t\\t\", mean, \n",
    "    \"\\nVar:\\t\\t\", variance)\n",
    "cat(\"\\n\")\n",
    "cat(\"95% CI for Uniform Prior:\\t [\", \n",
    "    qbeta(.025,alpha.post,beta.post), \", \", qbeta(.975,alpha.post,beta.post), \"]\")"
   ]
  },
  {
   "cell_type": "code",
   "execution_count": 29,
   "id": "179a84a7",
   "metadata": {},
   "outputs": [
    {
     "name": "stdout",
     "output_type": "stream",
     "text": [
      "Best estimator:\t 0.06896552 \n",
      "Mean:\t\t 0.07191781 \n",
      "Var:\t\t 0.0002278008\n",
      "95% CI for Uniform Prior:\t [ 0.04522356 ,  0.1041519 ]"
     ]
    },
    {
     "data": {
      "image/png": "[encoded data removed]",
      "text/plain": [
       "Plot with title \"Posterior\""
      ]
     },
     "metadata": {
      "image/png": {
       "height": 420,
       "width": 1260
      }
     },
     "output_type": "display_data"
    }
   ],
   "source": [
    "# custom prior\n",
    "\n",
    "prior<-dbeta(p, alpha.old, beta.old)\n",
    "\n",
    "# rule of conjugate priors\n",
    "alpha.post.custom<-alpha.old+y\n",
    "beta.post.custom <-beta.old-y+n\n",
    "beta.posterior.custom<-dbeta(p, alpha.post.custom, beta.post.custom)\n",
    "\n",
    "data.custom = data.frame(p,prior,beta.posterior.custom)\n",
    "\n",
    "options(repr.plot.width = 21, repr.plot.height = 7)\n",
    "plot(p,beta.posterior.custom, type=\"l\", main=\"Posterior\",      lwd=5, col='green')\n",
    "lines(p,prior,          type=\"l\", main=\"Uniform Prior\", lwd=5, col='red'  )\n",
    "\n",
    "mode <- (alpha.post.custom - 1) / (alpha.post.custom + beta.post.custom - 2)\n",
    "mean     <-  alpha.post.custom             / (alpha.post.custom + beta.post.custom    )\n",
    "variance <-  alpha.post.custom * beta.post.custom / (alpha.post.custom + beta.post.custom)^2 / (alpha.post.custom + beta.post.custom + 1)\n",
    "\n",
    "cat(\"Best estimator:\\t\", mode,\n",
    "    \"\\nMean:\\t\\t\", mean, \n",
    "    \"\\nVar:\\t\\t\", variance)\n",
    "cat(\"\\n\")\n",
    "cat(\"95% CI for Uniform Prior:\\t [\", \n",
    "    qbeta(.025,alpha.post.custom,beta.post.custom), \", \", qbeta(.975,alpha.post.custom,beta.post.custom), \"]\")"
   ]
  },
  {
   "cell_type": "markdown",
   "id": "a7ba9fbe",
   "metadata": {},
   "source": [
    "### Exercise 3h - Hypotesis test <a class=\"anchor\" id=\"ex3h\"></a>"
   ]
  },
  {
   "cell_type": "code",
   "execution_count": 30,
   "id": "8c3a35c2",
   "metadata": {},
   "outputs": [
    {
     "name": "stdout",
     "output_type": "stream",
     "text": [
      "The p value is:  0.01574077  which is less than alpha. We reject H0 at this level of significance.\n",
      "The cutoff value is in this case:  0.07996788 ."
     ]
    },
    {
     "name": "stderr",
     "output_type": "stream",
     "text": [
      "Warning message:\n",
      "\"Removed 200 rows containing missing values (position_stack).\"\n",
      "Warning message:\n",
      "\"Removed 100 row(s) containing missing values (geom_path).\"\n"
     ]
    },
    {
     "data": {
      "image/png": "[encoded data removed]",
      "text/plain": [
       "plot without title"
      ]
     },
     "metadata": {
      "image/png": {
       "height": 420,
       "width": 1260
      }
     },
     "output_type": "display_data"
    }
   ],
   "source": [
    "# bayesian approach\n",
    "\n",
    "pv.b <- pbeta(.1, alpha.post, beta.post, lower.tail = FALSE)\n",
    "cat(\"The p value is: \", pv.b, \" which is less than alpha. We reject H0 at this level of significance.\")\n",
    "cat(\"\\n\")\n",
    "cutoff.b <- qbeta(.1, alpha.post, beta.post, lower.tail = FALSE)\n",
    "cat(\"The cutoff value is in this case: \", cutoff.b, \".\")\n",
    "\n",
    "data = data.frame(p,prior,beta.posterior)\n",
    "\n",
    "p <- ggplot(data, aes(x = p, y = beta.posterior))\n",
    "p <- p + geom_line(size = 1.5, color = 'forestgreen')\n",
    "p <- p + geom_area(aes(ifelse(p>= 0.1, p, NA)), fill = 'forestgreen', alpha = 0.5)\n",
    "p <- p + geom_vline(xintercept = 0.1, col = 'black', size = 1, linetype = 'dashed')\n",
    "p <- p + geom_vline(xintercept = cutoff.b, col = 'red', size = 1, linetype = 'dashed')\n",
    "p <- p + xlim(0, 0.3)\n",
    "p <- p + ylab('PDF')\n",
    "p <- p + theme(axis.title.x = element_text(size=14), axis.text.x = element_text(size=12))\n",
    "p <- p + theme(axis.title.y = element_text(size=14), axis.text.y = element_text(size=12))\n",
    "p"
   ]
  },
  {
   "cell_type": "code",
   "execution_count": 31,
   "id": "d871681d",
   "metadata": {},
   "outputs": [
    {
     "name": "stdout",
     "output_type": "stream",
     "text": [
      "The p value is:  0.04117008  which is less than alpha. We reject H0 at this level of significance.\n",
      "The cutoff value is in this case:  0.09180464 ."
     ]
    },
    {
     "name": "stderr",
     "output_type": "stream",
     "text": [
      "Warning message:\n",
      "\"Removed 200 rows containing missing values (position_stack).\"\n",
      "Warning message:\n",
      "\"Removed 100 row(s) containing missing values (geom_path).\"\n"
     ]
    },
    {
     "data": {
      "image/png": "[encoded data removed]",
      "text/plain": [
       "plot without title"
      ]
     },
     "metadata": {
      "image/png": {
       "height": 420,
       "width": 1260
      }
     },
     "output_type": "display_data"
    }
   ],
   "source": [
    "# bayesian approach custom function\n",
    "\n",
    "pv.b <- pbeta(.1, alpha.post.custom, beta.post.custom, lower.tail = FALSE)\n",
    "cat(\"The p value is: \", pv.b, \" which is less than alpha. We reject H0 at this level of significance.\")\n",
    "cat(\"\\n\")\n",
    "cutoff.b <- qbeta(.1, alpha.post.custom, beta.post.custom, lower.tail = FALSE)\n",
    "cat(\"The cutoff value is in this case: \", cutoff.b, \".\")\n",
    "\n",
    "p <- ggplot(data, aes(x = p, y = beta.posterior.custom))\n",
    "p <- p + geom_line(size = 1.5, color = 'forestgreen')\n",
    "p <- p + geom_area(aes(ifelse(p>= 0.1, p, NA)), fill = 'forestgreen', alpha = 0.5)\n",
    "p <- p + geom_vline(xintercept = 0.1, col = 'black', size = 1, linetype = 'dashed')\n",
    "p <- p + geom_vline(xintercept = cutoff.b, col = 'red', size = 1, linetype = 'dashed')\n",
    "p <- p + xlim(0, 0.3)\n",
    "p <- p + ylab('PDF')\n",
    "p <- p + theme(axis.title.x = element_text(size=14), axis.text.x = element_text(size=12))\n",
    "p <- p + theme(axis.title.y = element_text(size=14), axis.text.y = element_text(size=12))\n",
    "p"
   ]
  },
  {
   "cell_type": "markdown",
   "id": "b2f1efd0",
   "metadata": {},
   "source": [
    "## Exercise 4 - MCMC with JAGS <a class=\"anchor\" id=\"ex4\"></a>"
   ]
  },
  {
   "cell_type": "code",
   "execution_count": 32,
   "id": "fb047b18",
   "metadata": {},
   "outputs": [
    {
     "ename": "ERROR",
     "evalue": "Error in parse(text = x, srcfile = src): <text>:1:6: unexpected '{'\n1: model{\n         ^\n",
     "output_type": "error",
     "traceback": [
      "Error in parse(text = x, srcfile = src): <text>:1:6: unexpected '{'\n1: model{\n         ^\nTraceback:\n"
     ]
    }
   ],
   "source": [
    "model{\n",
    "    # data likelihood\n",
    "    for(i in 1:length(X)){\n",
    "        X[i] <- dbern(p);\n",
    "    }\n",
    "    # a uniform prior for p\n",
    "    p <- dbeta(1,1);\n",
    "    \n",
    "    # predicted data, given p\n",
    "    y <- dbin(p, n_next);\n",
    "}"
   ]
  },
  {
   "cell_type": "code",
   "execution_count": 33,
   "id": "2d23a6be",
   "metadata": {},
   "outputs": [
    {
     "ename": "ERROR",
     "evalue": "Error in eval(expr, envir, enclos): object 'data_obs' not found\n",
     "output_type": "error",
     "traceback": [
      "Error in eval(expr, envir, enclos): object 'data_obs' not found\nTraceback:\n"
     ]
    }
   ],
   "source": [
    "data   <- NULL\n",
    "data$X <- data_obs  # set of observations\n",
    "data$n <- length(X) # those to be considered \n",
    "\n",
    "data$n_next <- 10   # Predictions"
   ]
  },
  {
   "cell_type": "code",
   "execution_count": null,
   "id": "c0bb31f3",
   "metadata": {},
   "outputs": [],
   "source": []
  }
 ],
 "metadata": {
  "@webio": {
   "lastCommId": null,
   "lastKernelId": null
  },
  "kernelspec": {
   "display_name": "R",
   "language": "R",
   "name": "ir"
  },
  "language_info": {
   "codemirror_mode": "r",
   "file_extension": ".r",
   "mimetype": "text/x-r-source",
   "name": "R",
   "pygments_lexer": "r",
   "version": "4.1.3"
  }
 },
 "nbformat": 4,
 "nbformat_minor": 5
}
